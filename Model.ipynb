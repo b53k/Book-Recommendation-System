{
 "cells": [
  {
   "cell_type": "code",
   "execution_count": null,
   "metadata": {},
   "outputs": [],
   "source": [
    "import os\n",
    "import json\n",
    "import pandas as pd\n",
    "from tqdm import tqdm\n",
    "from script import GET_RECOMMENDATION\n",
    "import time\n",
    "import gc\n",
    "\n",
    "start = time.time()\n",
    "\n",
    "# Initialize book title:\n",
    "books_title = pd.read_json('./data/books_title.json')\n",
    "books_title['book_id'] = books_title['book_id'].astype(str)\n",
    "\n",
    "# file path for 10 test users\n",
    "path = './data/users/'\n",
    "\n",
    "# store test-train-top recommendation for each user. key = user_xxx\n",
    "dictionary = {} \n",
    "\n",
    "for file in tqdm(os.listdir(path), total = 10, desc = 'Processing', mininterval = 0.2):\n",
    "\n",
    "    file_path = os.path.join(path, file)\n",
    "    user_info = pd.read_csv(file_path)\n",
    "\n",
    "    # construct model class\n",
    "    recommend = GET_RECOMMENDATION(user = user_info, book_title = books_title, percentage = 35, split_size = 0.3, current_user = file[:-4])\n",
    "\n",
    "    csv_book_map = recommend.book_mapping()\n",
    "    filtered_users = recommend.similar_users(book_map = csv_book_map)\n",
    "    interaction_list = recommend.interactions(filtered_users, csv_book_map)\n",
    "    \n",
    "    # Free RAM\n",
    "    del csv_book_map\n",
    "    del filtered_users\n",
    "    gc.collect()\n",
    "\n",
    "    top_recommendations = recommend.collab_filter(interaction_list)\n",
    "    top_recommendations = top_recommendations['book_id'].to_numpy().astype(int)\n",
    "    \n",
    "    # create dictionary entry per user for evaluation purpose\n",
    "    train_data = recommend.get_train_set()\n",
    "    train_data = train_data['book_id'].to_numpy().astype(int)\n",
    "\n",
    "    test_data = recommend.get_test_set()\n",
    "    test_data = test_data['book_id'].to_numpy().astype(int)\n",
    "\n",
    "    print ('Creating dictionary for ' + file[:-4])\n",
    "    dictionary[file[:-4]] = [train_data.tolist(), test_data.tolist(), top_recommendations.tolist()]\n",
    "    \n",
    "    # clear variables to free up memory\n",
    "    del recommend\n",
    "    del interaction_list\n",
    "    del top_recommendations\n",
    "    del train_data\n",
    "    del test_data\n",
    "    gc.collect()\n",
    "    \n",
    "    time.sleep(3)\n",
    "\n",
    "# save dictionary as JSON file\n",
    "with open('./data/dict/top_recs.json', 'w') as f:\n",
    "    json.dump(dictionary, f)\n",
    "\n",
    "print ('Finished Process in {:.3f} min'.format((time.time() - start)/60.0))"
   ]
  },
  {
   "cell_type": "code",
   "execution_count": null,
   "metadata": {},
   "outputs": [],
   "source": [
    "# To load this\n",
    "# with open('./data/dict/top_recs.json') as file:\n",
    "#       data = json.load(file)\n",
    "\n",
    "'''\n",
    "    dictionary contains each of the 10 users with training data @ index 0, testing data @ index 1 and top N recommendations @ index 2\n",
    "    We can now see how many matches we get between index 1 and index 0.\n",
    "\n",
    "    To improve accuracy, we can try to increase percentage (arg for GET_RECOMMENDATION). See script.py for other possible hyperparameter.\n",
    "'''"
   ]
  }
 ],
 "metadata": {
  "kernelspec": {
   "display_name": "Python 3.10.6 64-bit",
   "language": "python",
   "name": "python3"
  },
  "language_info": {
   "codemirror_mode": {
    "name": "ipython",
    "version": 3
   },
   "file_extension": ".py",
   "mimetype": "text/x-python",
   "name": "python",
   "nbconvert_exporter": "python",
   "pygments_lexer": "ipython3",
   "version": "3.10.6"
  },
  "orig_nbformat": 4,
  "vscode": {
   "interpreter": {
    "hash": "916dbcbb3f70747c44a77c7bcd40155683ae19c65e1c03b4aa3499c5328201f1"
   }
  }
 },
 "nbformat": 4,
 "nbformat_minor": 2
}
